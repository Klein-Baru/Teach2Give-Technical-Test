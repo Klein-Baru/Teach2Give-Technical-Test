{
 "cells": [
  {
   "cell_type": "code",
   "execution_count": null,
   "id": "57f610bb-4c89-42b3-a3af-1c4207cc915f",
   "metadata": {},
   "outputs": [],
   "source": [
    "# *********************************************************************************************************** #\n",
    "# ********************************** TEACH2GIVE TECHNICAL TEST ********************************************** #\n",
    "# *********************************************************************************************************** #\n",
    "# ************************** Code Solutions written by coder_klein on 30-03-2025 **************************** #\n",
    "# ************************* Am ur humble Python Programmer and Data Scientist ******************************* #\n",
    "# *********************************************************************************************************** # \n",
    "# *********************************************************************************************************** # "
   ]
  },
  {
   "cell_type": "code",
   "execution_count": 7,
   "id": "63ea4f3d-70a5-42c3-8db6-bb4cc5506ee5",
   "metadata": {},
   "outputs": [
    {
     "name": "stdout",
     "output_type": "stream",
     "text": [
      "1\n",
      "2\n",
      "Fizz\n",
      "4\n",
      "Buzz\n",
      "Fizz\n",
      "7\n",
      "8\n",
      "Fizz\n",
      "Buzz\n",
      "11\n",
      "Fizz\n",
      "13\n",
      "14\n",
      "FizzBuzz\n",
      "16\n",
      "17\n",
      "Fizz\n",
      "19\n",
      "Buzz\n",
      "Fizz\n",
      "22\n",
      "23\n",
      "Fizz\n",
      "Buzz\n",
      "26\n",
      "Fizz\n",
      "28\n",
      "29\n",
      "FizzBuzz\n",
      "31\n",
      "32\n",
      "Fizz\n",
      "34\n",
      "Buzz\n",
      "Fizz\n",
      "37\n",
      "38\n",
      "Fizz\n",
      "Buzz\n",
      "41\n",
      "Fizz\n",
      "43\n",
      "44\n",
      "FizzBuzz\n",
      "46\n",
      "47\n",
      "Fizz\n",
      "49\n",
      "Buzz\n",
      "Fizz\n",
      "52\n",
      "53\n",
      "Fizz\n",
      "Buzz\n",
      "56\n",
      "Fizz\n",
      "58\n",
      "59\n",
      "FizzBuzz\n",
      "61\n",
      "62\n",
      "Fizz\n",
      "64\n",
      "Buzz\n",
      "Fizz\n",
      "67\n",
      "68\n",
      "Fizz\n",
      "Buzz\n",
      "71\n",
      "Fizz\n",
      "73\n",
      "74\n",
      "FizzBuzz\n",
      "76\n",
      "77\n",
      "Fizz\n",
      "79\n",
      "Buzz\n",
      "Fizz\n",
      "82\n",
      "83\n",
      "Fizz\n",
      "Buzz\n",
      "86\n",
      "Fizz\n",
      "88\n",
      "89\n",
      "FizzBuzz\n",
      "91\n",
      "92\n",
      "Fizz\n",
      "94\n",
      "Buzz\n",
      "Fizz\n",
      "97\n",
      "98\n",
      "Fizz\n",
      "Buzz\n"
     ]
    }
   ],
   "source": [
    "# Question 1: FizzBuzz\n",
    "# Write a program that prints the numbers from 1 to 100. For multiples of 3, print \"Fizz\"; for\n",
    "# multiples of 5, print \"Buzz\"; and for numbers that are multiples of both 3 and 5, print \"FizzBuzz\".\n",
    "\n",
    "for i in range(1, 101):\n",
    "\n",
    "    if i % 3 == 0 and i % 5 == 0:\n",
    "        print(\"FizzBuzz\")\n",
    "        continue  # skip the rest below.\n",
    "\n",
    "    elif i % 3 == 0:\n",
    "        print(\"Fizz\")\n",
    "        continue\n",
    "\n",
    "    elif i % 5 == 0:\n",
    "        print(\"Buzz\")\n",
    "        continue\n",
    "\n",
    "    else:\n",
    "        print(i)\n",
    "        continue"
   ]
  },
  {
   "cell_type": "code",
   "execution_count": 8,
   "id": "f20034ca-9228-409f-ac06-c44fb0fc72c6",
   "metadata": {},
   "outputs": [
    {
     "name": "stdout",
     "output_type": "stream",
     "text": [
      "[0, 1, 1, 2, 3, 5, 8, 13, 21, 34, 55, 89, 144, 233, 377, 610, 987, 1597, 2584, 4181, 6765, 10946, 17711, 28657, 46368, 75025, 121393, 196418, 317811, 514229, 832040, 1346269, 2178309, 3524578, 5702887, 9227465, 14930352, 24157817, 39088169, 63245986, 102334155, 165580141, 267914296, 433494437, 701408733, 1134903170, 1836311903, 2971215073, 4807526976, 7778742049, 12586269025, 20365011074, 32951280099, 53316291173, 86267571272, 139583862445, 225851433717, 365435296162, 591286729879, 956722026041, 1548008755920, 2504730781961, 4052739537881, 6557470319842, 10610209857723, 17167680177565, 27777890035288, 44945570212853, 72723460248141, 117669030460994, 190392490709135, 308061521170129, 498454011879264, 806515533049393, 1304969544928657, 2111485077978050, 3416454622906707, 5527939700884757, 8944394323791464, 14472334024676221, 23416728348467685, 37889062373143906, 61305790721611591, 99194853094755497, 160500643816367088, 259695496911122585, 420196140727489673, 679891637638612258, 1100087778366101931, 1779979416004714189, 2880067194370816120, 4660046610375530309, 7540113804746346429, 12200160415121876738, 19740274219868223167, 31940434634990099905, 51680708854858323072, 83621143489848422977, 135301852344706746049, 218922995834555169026, 354224848179261915075]\n"
     ]
    }
   ],
   "source": [
    "# Question 2: Fibonacci Sequence\n",
    "# Write a program to generate the Fibonacci sequence up to 100.\n",
    "\n",
    "values = list()\n",
    "fib_sequence = []\n",
    "iterator = -1\n",
    "\n",
    "for i in range(0, 101):\n",
    "\n",
    "    values.append(i)\n",
    "\n",
    "for value in values:\n",
    "\n",
    "    if value == 0:\n",
    "\n",
    "        fib_sequence.append(value) \n",
    "\n",
    "    elif value == 1:\n",
    "\n",
    "        iterator += 1\n",
    "\n",
    "        fib_sequence.append(value + values[iterator])\n",
    "\n",
    "    else:\n",
    "\n",
    "        fib_sequence.append(fib_sequence[-2] + fib_sequence[-1])  # add the last value to the second last value\n",
    "\n",
    "print(fib_sequence)"
   ]
  },
  {
   "cell_type": "code",
   "execution_count": 3,
   "id": "21626f2f-b644-4042-891e-c070d58fbeb5",
   "metadata": {},
   "outputs": [
    {
     "name": "stdin",
     "output_type": "stream",
     "text": [
      "Enter any number:  8\n"
     ]
    },
    {
     "name": "stdout",
     "output_type": "stream",
     "text": [
      "True\n"
     ]
    }
   ],
   "source": [
    "#  Question 3: Power of Two\n",
    "#  Write a program that takes an integer as input and returns true if the input is a power of two.\n",
    "\n",
    "import math\n",
    "\n",
    "user_input = int(input(\"Enter any number: \"))\n",
    "\n",
    "power_of_two = math.log2(user_input)  # find the base 2 log of the input\n",
    "\n",
    "print(power_of_two.is_integer())  # check if value is an integer.\n"
   ]
  },
  {
   "cell_type": "code",
   "execution_count": 4,
   "id": "d323233c-e165-42bb-96a9-bf8bd7641a5c",
   "metadata": {},
   "outputs": [
    {
     "name": "stdin",
     "output_type": "stream",
     "text": [
      " i love programming\n"
     ]
    },
    {
     "name": "stdout",
     "output_type": "stream",
     "text": [
      "I Love Programming\n"
     ]
    }
   ],
   "source": [
    "# Question 4: Capitalize words.\n",
    "# Write a program that accepts a string as input, capitalizes the first letter of each word in the\n",
    "# string, and then returns the result string.\n",
    "\n",
    "user_input2 = input()\n",
    "\n",
    "characterize = [i for i in user_input2]  # split the individual elements into characters for easier manipulations.\n",
    "count = -1\n",
    "\n",
    "for i in characterize:\n",
    "\n",
    "    count += 1\n",
    "\n",
    "    first_character = characterize[0].upper()  # find the character to capitalize.\n",
    "    characterize.pop(0)  # remove the lowercase character to be capitalized\n",
    "    characterize.insert(0, first_character)  # now insert the capitalized character into the list.\n",
    "\n",
    "    if i == \" \":\n",
    "\n",
    "        letter = characterize[count + 1].upper()\n",
    "        characterize.pop(count + 1)\n",
    "        characterize.insert(count + 1, letter)\n",
    "\n",
    "count2 = 0\n",
    "capitalized = \"\"\n",
    "for i in characterize:\n",
    "\n",
    "    capitalized += i\n",
    "\n",
    "print(capitalized)\n"
   ]
  },
  {
   "cell_type": "code",
   "execution_count": 10,
   "id": "4e658261-1c92-4112-a10f-7b215833a3f3",
   "metadata": {},
   "outputs": [
    {
     "name": "stdin",
     "output_type": "stream",
     "text": [
      "Enter any number:  -65\n"
     ]
    },
    {
     "name": "stdout",
     "output_type": "stream",
     "text": [
      "-56\n"
     ]
    }
   ],
   "source": [
    "# Question 5: Reverse Ordering.\n",
    "# Write a program that takes an integer as input and returns an integer with reversed digit ordering.\n",
    "\n",
    "user_input2 = input(\"Enter any number: \")\n",
    "user_input2 = [numeral for numeral in user_input2]\n",
    "\n",
    "count = 1\n",
    "\n",
    "inverted_list = []\n",
    "\n",
    "for item in user_input2:\n",
    "\n",
    "    item = user_input2[len(user_input2)-count]\n",
    "    count += 1\n",
    "\n",
    "    inverted_list.append(item)\n",
    "\n",
    "\n",
    "inverted_str = \"\"\n",
    "\n",
    "for item in inverted_list:\n",
    "\n",
    "    inverted_str += item\n",
    "\n",
    "if \"-\" in inverted_str:\n",
    "    inverted_str = inverted_str.removesuffix(\"-\")\n",
    "    print(int(inverted_str) * -1)  # negate\n",
    "\n",
    "else:\n",
    "    print(int(inverted_str))  # convert into an integer\n",
    "        \n"
   ]
  },
  {
   "cell_type": "code",
   "execution_count": 5,
   "id": "c51d6a57-08c1-4df8-9d1d-142d19c6828d",
   "metadata": {},
   "outputs": [
    {
     "name": "stdin",
     "output_type": "stream",
     "text": [
      "  Hello World \n"
     ]
    },
    {
     "name": "stdout",
     "output_type": "stream",
     "text": [
      "3\n"
     ]
    }
   ],
   "source": [
    "# Question 6.\n",
    "# Write a program that counts the number of vowels in a sentence.\n",
    "vowels = [\"a\", \"e\", \"i\", \"o\", \"u\"]\n",
    "sentence = input()\n",
    "count = 0\n",
    "\n",
    "characterize = [i for i in sentence]\n",
    "\n",
    "for vowel in vowels:\n",
    "    for character in characterize:\n",
    "        if character == vowel:\n",
    "\n",
    "            count += 1\n",
    "\n",
    "print(count)"
   ]
  }
 ],
 "metadata": {
  "kernelspec": {
   "display_name": "Python 3 (ipykernel)",
   "language": "python",
   "name": "python3"
  },
  "language_info": {
   "codemirror_mode": {
    "name": "ipython",
    "version": 3
   },
   "file_extension": ".py",
   "mimetype": "text/x-python",
   "name": "python",
   "nbconvert_exporter": "python",
   "pygments_lexer": "ipython3",
   "version": "3.10.5"
  }
 },
 "nbformat": 4,
 "nbformat_minor": 5
}
